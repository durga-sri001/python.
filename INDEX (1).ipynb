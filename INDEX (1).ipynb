{
 "cells": [
  {
   "cell_type": "code",
   "execution_count": 127,
   "id": "64457d42-744c-4c3f-bc06-0a606946d07e",
   "metadata": {},
   "outputs": [],
   "source": [
    "from tkinter import *\n",
    "from tkinter import messagebox\n",
    "\n",
    "def login():\n",
    "    username = entry1.get()\n",
    "    password = entry2.get()\n",
    "    \n",
    "    # Check if both username and password are empty\n",
    "    if username == '' and password == '':\n",
    "        messagebox.showerror('Login', 'Invalid Username or Password')\n",
    "    \n",
    "    # Check if username and password match the hardcoded credentials\n",
    "    elif username == '24K65A1201' and password == '24K65A1201':\n",
    "        messagebox.showinfo('Login', 'Login Successful')\n",
    "        root.destroy()  # Close the login window\n",
    "        top = Tk()  # Create a new window for the welcome message\n",
    "        top.configure(bg='white')\n",
    "        label4 = Label(top, text='WELCOME 24k65a1201', font=('Arial', 20), bg='light pink')\n",
    "        label4.place(x=500, y=300)\n",
    "        top.mainloop()  # Start the second window's main loop\n",
    "    \n",
    "    # If the username or password is incorrect\n",
    "    else:\n",
    "        messagebox.showerror('Login', 'Incorrect Username or Password')\n",
    "\n",
    "# Main window\n",
    "root = Tk()\n",
    "root.configure(bg='lavender')\n",
    "root.title('Login Page')\n",
    "\n",
    "# Create widgets\n",
    "label1 = Label(root, text='LOGIN PAGE', bg='black', fg='white', font=('Arial', 20))\n",
    "label1.place(x=500, y=20)\n",
    "\n",
    "label2 = Label(root, text='USER NAME:', bg='black', fg='white', font=('Arial', 20))\n",
    "label2.place(x=399, y=199)\n",
    "\n",
    "label3 = Label(root, text='PASSWORD:', bg='black', fg='white', font=('Arial', 20))\n",
    "label3.place(x=399, y=360)\n",
    "\n",
    "entry1 = Entry(root, font=('Arial', 20))\n",
    "entry1.place(x=600, y=200)\n",
    "\n",
    "entry2 = Entry(root, font=('Arial', 20), show='*')  # Mask password input\n",
    "entry2.place(x=600, y=350)\n",
    "\n",
    "# Create login button\n",
    "button = Button(root, text='Login', bg='green', bd=5, font=('Arial', 20), command=login)\n",
    "button.place(x=500, y=500)\n",
    "\n",
    "root.mainloop()\n",
    "\n"
   ]
  },
  {
   "cell_type": "code",
   "execution_count": 111,
   "id": "a2b5b1fb-9d24-4046-8856-4aa96d05b4ca",
   "metadata": {},
   "outputs": [
    {
     "ename": "SyntaxError",
     "evalue": "invalid syntax (3702860380.py, line 14)",
     "output_type": "error",
     "traceback": [
      "\u001b[1;36m  Cell \u001b[1;32mIn[111], line 14\u001b[1;36m\u001b[0m\n\u001b[1;33m    else:\u001b[0m\n\u001b[1;37m    ^\u001b[0m\n\u001b[1;31mSyntaxError\u001b[0m\u001b[1;31m:\u001b[0m invalid syntax\n"
     ]
    }
   ],
   "source": [
    "from tkinter import *\n",
    "from tkinter import messagebox\n",
    "def login():\n",
    "    username = entry1.get()\n",
    "    password = entry2.get()\n",
    "    if username == '' and password == '' : messagebox.showerror('Login', 'Invalid Username or Password')\n",
    "    elif username == '24k65a1201' and password == '24k65a1201': messagebox.showinfo('Login', 'Login Successful') \n",
    "    root.destroy()\n",
    "    top = Tk()\n",
    "    top.configure(bg='white')\n",
    "    label4 = Label(top, text='WELCOME 24k65a1201',font=('Areal',20), bg='light pink')\n",
    "    label4.place(x=500, y=300)\n",
    "\n",
    "else:\n",
    "        messagebox.showerror('login', 'Incorrect username or password')\n",
    " \n",
    "root = Tk()\n",
    "root.configure(bg='cyan4')\n",
    "label1 = Label(root, text='LOGIN PAGE', bg='black', fg='white',font=('Areal', 20))\n",
    "label1.place(x=500, y=20)\n",
    "label2 = Label(root, text='USER NAME:', bg='black', fg='white',font=('Areal', 20))\n",
    "label2.place(x=399, y=199)\n",
    "label3 = Label(root, text='PASSWORD:', bg='black', fg='white',font=('Areal', 20))\n",
    "label3.place(x=399, y=360)\n",
    "entry1 = Entry(root, font=('Areal',20) )\n",
    "entry1.place(x=600, y=200)\n",
    "entry2 = Entry(root, font=('Areal',20), show='.' )\n",
    "entry2.place(x=600, y=350)\n",
    "button = Button(root, text='Login', bg='green', bd=5,font=('Areal',20), command=login)\n",
    "button.place(x=500, y=500)\n",
    "root.mainloop()\n"
   ]
  },
  {
   "cell_type": "code",
   "execution_count": null,
   "id": "c352f9d4-2c85-4df3-9f4c-f348cc8d6cb8",
   "metadata": {},
   "outputs": [],
   "source": []
  },
  {
   "cell_type": "code",
   "execution_count": null,
   "id": "30ea8416-3636-4bda-b872-969a83d239f4",
   "metadata": {},
   "outputs": [],
   "source": []
  }
 ],
 "metadata": {
  "kernelspec": {
   "display_name": "Python [conda env:base] *",
   "language": "python",
   "name": "conda-base-py"
  },
  "language_info": {
   "codemirror_mode": {
    "name": "ipython",
    "version": 3
   },
   "file_extension": ".py",
   "mimetype": "text/x-python",
   "name": "python",
   "nbconvert_exporter": "python",
   "pygments_lexer": "ipython3",
   "version": "3.12.7"
  }
 },
 "nbformat": 4,
 "nbformat_minor": 5
}
